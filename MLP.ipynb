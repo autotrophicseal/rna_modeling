{
 "cells": [
  {
   "cell_type": "code",
   "execution_count": 2,
   "metadata": {},
   "outputs": [],
   "source": [
    "import anndata as ad"
   ]
  },
  {
   "cell_type": "code",
   "execution_count": 3,
   "metadata": {},
   "outputs": [],
   "source": [
    "from sklearn.metrics import mean_squared_error\n",
    "from sklearn.model_selection import train_test_split\n",
    "from sklearn.preprocessing import scale \n",
    "from sklearn import model_selection\n",
    "import torch\n",
    "from torch import nn\n",
    "import torch.optim as optim\n",
    "from torch.utils.data import TensorDataset, DataLoader\n",
    "import magic\n",
    "from sklearn.decomposition import PCA"
   ]
  },
  {
   "cell_type": "code",
   "execution_count": 4,
   "metadata": {},
   "outputs": [],
   "source": [
    "# Training Data\n",
    "adata_gex = ad.read_h5ad(\"Gex_processed_training.h5ad\") #gex is gene expression which are RNA\n",
    "adata_adt = ad.read_h5ad(\"Adt_processed_training.h5ad\") #adt contains info about the proteins in the cells\n",
    "\n",
    "# Testing Data\n",
    "test_gex = ad.read_h5ad(\"Gex_processed_testing.h5ad\")\n",
    "test_adt = ad.read_h5ad(\"Adt_processed_testing.h5ad\")"
   ]
  },
  {
   "cell_type": "code",
   "execution_count": 5,
   "metadata": {},
   "outputs": [],
   "source": [
    "# TRAINING DATA\n",
    "# This returns the NORMALIZED COUNT of ALL RNA sequences within the cell\n",
    "C = adata_gex.X\n",
    "\n",
    "# We keep the protein datat the same because we want to predict for only the number of CD86 Proteins in the cell\n",
    "C1 = adata_adt.X\n",
    "\n",
    "# Utilize sklearn train_test_split function to split up the C array. Small array contains 10% the data of the full array\n",
    "# Notice that C_small has only ~4000 row of data instead of 13000\n",
    "C_small, C_large, C1_small, C1_large = train_test_split(C,C1,train_size=0.01)\n",
    "C_small\n",
    "\n",
    "# Then we want to turn it into an array so we can work on it.\n",
    "X_train = C_small.toarray()\n",
    "y_train = C1_small.toarray()"
   ]
  },
  {
   "cell_type": "code",
   "execution_count": null,
   "metadata": {},
   "outputs": [
    {
     "name": "stdout",
     "output_type": "stream",
     "text": [
      "Calculating MAGIC...\n",
      "  Running MAGIC on 421 cells and 13953 genes.\n",
      "  Calculating graph and diffusion operator...\n",
      "    Calculating PCA...\n"
     ]
    }
   ],
   "source": [
    "magic_operator = magic.MAGIC()\n",
    "X_train = magic_operator.fit_transform(X_train)\n",
    "X_test = magic_operator.fit_transoform(X_test)"
   ]
  },
  {
   "cell_type": "code",
   "execution_count": 5,
   "metadata": {},
   "outputs": [],
   "source": [
    "# This returns the NORMALIZED COUNT of the RNA sequence CD86 in EACH CELL\n",
    "C_test = test_gex.X\n",
    "\n",
    "# Same thing below except for proteins\n",
    "C1_test = test_adt.X\n",
    "\n",
    "# Then we want to turn it into an array so we can work on it\n",
    "X_test = C_test.toarray()\n",
    "y_test = C1_test.toarray()"
   ]
  },
  {
   "cell_type": "code",
   "execution_count": 6,
   "metadata": {},
   "outputs": [
    {
     "name": "stdout",
     "output_type": "stream",
     "text": [
      "Sequential(\n",
      "  (0): Linear(in_features=13953, out_features=5000, bias=True)\n",
      "  (1): BatchNorm1d(5000, eps=1e-05, momentum=0.1, affine=False, track_running_stats=True)\n",
      "  (2): ReLU()\n",
      "  (3): Linear(in_features=5000, out_features=500, bias=True)\n",
      "  (4): BatchNorm1d(500, eps=1e-05, momentum=0.1, affine=False, track_running_stats=True)\n",
      "  (5): Sigmoid()\n",
      "  (6): Linear(in_features=500, out_features=134, bias=True)\n",
      ")\n"
     ]
    }
   ],
   "source": [
    "# Hyperparameters for our network\n",
    "input_size = 13953\n",
    "hidden_sizes = [5000,500]\n",
    "output_size = 134\n",
    "\n",
    "# Build a feed-forward network\n",
    "model = nn.Sequential(nn.Linear(input_size, hidden_sizes[0]),\n",
    "                      nn.BatchNorm1d(hidden_sizes[0], affine=False),\n",
    "                      nn.ReLU(),\n",
    "                      nn.Linear(hidden_sizes[0], hidden_sizes[1]),\n",
    "                      nn.BatchNorm1d(hidden_sizes[1], affine=False),\n",
    "                      nn.Sigmoid(),\n",
    "                      nn.Linear(hidden_sizes[1], output_size))\n",
    "print(model)"
   ]
  },
  {
   "cell_type": "code",
   "execution_count": 7,
   "metadata": {},
   "outputs": [],
   "source": [
    "X_train_tensor = torch.Tensor(X_train)\n",
    "y_train_tensor = torch.Tensor(y_train)\n",
    "X_test_tensor  = torch.Tensor(X_test)\n",
    "y_test_tensor  = torch.Tensor(y_test)\n",
    "\n",
    "mydata_train = TensorDataset(X_train_tensor,y_train_tensor)\n",
    "mydata_test  = TensorDataset(X_test_tensor,y_test_tensor)\n",
    "\n",
    "trainloader = torch.utils.data.DataLoader(mydata_train, batch_size=10, shuffle=True, drop_last=True)\n",
    "testloader = torch.utils.data.DataLoader(mydata_test, batch_size=10, shuffle=True,drop_last=True)"
   ]
  },
  {
   "cell_type": "code",
   "execution_count": 8,
   "metadata": {},
   "outputs": [
    {
     "data": {
      "text/plain": [
       "array([[1.171824  , 0.29471976, 0.9662469 , ..., 0.7485523 , 0.8265028 ,\n",
       "        2.082733  ],\n",
       "       [0.        , 0.59661454, 1.1975185 , ..., 2.258381  , 0.6688309 ,\n",
       "        0.4343594 ],\n",
       "       [0.        , 0.32750162, 1.0775542 , ..., 0.4582131 , 0.4582131 ,\n",
       "        0.4582131 ],\n",
       "       ...,\n",
       "       [0.5736808 , 0.7711177 , 1.3115053 , ..., 0.93592685, 1.3115053 ,\n",
       "        0.        ],\n",
       "       [0.5026481 , 0.19696192, 0.8355951 , ..., 1.4505513 , 1.0849457 ,\n",
       "        1.0085349 ],\n",
       "       [0.4453852 , 0.2472863 , 0.6106549 , ..., 1.9302828 , 0.2472863 ,\n",
       "        1.2598553 ]], dtype=float32)"
      ]
     },
     "execution_count": 8,
     "metadata": {},
     "output_type": "execute_result"
    }
   ],
   "source": [
    "y_test_tensor.numpy()"
   ]
  },
  {
   "cell_type": "code",
   "execution_count": 9,
   "metadata": {
    "scrolled": false
   },
   "outputs": [
    {
     "name": "stdout",
     "output_type": "stream",
     "text": [
      "CPU times: user 2 µs, sys: 2 µs, total: 4 µs\n",
      "Wall time: 7.63 µs\n",
      "Training loss: 0.8776291012763977\n"
     ]
    }
   ],
   "source": [
    "%time \n",
    "\n",
    "criterion = nn.MSELoss()# Optimizers require the parameters to optimize and a learning rate\n",
    "optimizer = optim.SGD(model.parameters(), lr=0.003)\n",
    "epochs = 1\n",
    "for e in range(epochs):\n",
    "    running_loss = 0\n",
    "    for data, target in trainloader:\n",
    "    \n",
    "        # Training pass\n",
    "        optimizer.zero_grad()\n",
    "        model.train()\n",
    "        output = model(data) #<--- note this line is using the model you set up at the beginning of this section\n",
    "        output = output.float()\n",
    "        target = target.float()\n",
    "        loss = criterion(output, target)\n",
    "        loss.backward()\n",
    "        optimizer.step()\n",
    "        \n",
    "        running_loss += loss.item()\n",
    "    else:\n",
    "        print(f\"Training loss: {running_loss/len(trainloader)}\")"
   ]
  },
  {
   "cell_type": "code",
   "execution_count": 10,
   "metadata": {},
   "outputs": [],
   "source": [
    "predict = model(X_test_tensor)\n",
    "#predict = model(X_train_tensor)"
   ]
  },
  {
   "cell_type": "code",
   "execution_count": 20,
   "metadata": {},
   "outputs": [
    {
     "data": {
      "text/plain": [
       "tensor(0.2824, grad_fn=<MseLossBackward0>)"
      ]
     },
     "execution_count": 20,
     "metadata": {},
     "output_type": "execute_result"
    }
   ],
   "source": [
    "#criterion(predict,y_test_tensor)"
   ]
  },
  {
   "cell_type": "markdown",
   "metadata": {},
   "source": [
    "1. 1% of data, No Magic, Nothing else: 0.3640\n",
    "2. 1% of data, No Magic, Batch Normalization: 0.2824\n",
    "3. 1% of data, Magic, Batch Normalization: 0.3348\n",
    "4. 1% of data, PCA, Batch Normalization: 0."
   ]
  },
  {
   "cell_type": "code",
   "execution_count": 15,
   "metadata": {},
   "outputs": [
    {
     "data": {
      "text/plain": [
       "0.78214717"
      ]
     },
     "execution_count": 15,
     "metadata": {},
     "output_type": "execute_result"
    }
   ],
   "source": [
    "mean_squared_error(predict.detach().numpy(), y_test_tensor.numpy(), squared = False)"
   ]
  },
  {
   "cell_type": "code",
   "execution_count": null,
   "metadata": {},
   "outputs": [],
   "source": []
  }
 ],
 "metadata": {
  "kernelspec": {
   "display_name": "Python 3 (ipykernel)",
   "language": "python",
   "name": "python3"
  },
  "language_info": {
   "codemirror_mode": {
    "name": "ipython",
    "version": 3
   },
   "file_extension": ".py",
   "mimetype": "text/x-python",
   "name": "python",
   "nbconvert_exporter": "python",
   "pygments_lexer": "ipython3",
   "version": "3.9.13"
  }
 },
 "nbformat": 4,
 "nbformat_minor": 2
}
