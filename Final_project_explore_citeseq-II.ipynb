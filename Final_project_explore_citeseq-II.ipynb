{
 "cells": [
  {
   "cell_type": "markdown",
   "id": "ba4720e0-e566-4f3e-90c2-8a58c47c8b7b",
   "metadata": {},
   "source": [
    "# Explore CITE Data for the final project\n",
    "\n",
    "The goal for this notebook is to introduce you to the CITE gene expression (GEX, also known as mRNA) and antibody derived tag **protein** (ADT) datasets. \n",
    "\n",
    "Note, this data is present to facilitate exploration of the dataset for the final project. \n",
    "\n",
    "Install the conda in hpcc (vis terminal) or linux systerm:\n",
    "\n",
    "curl -O  https://repo.anaconda.com/archive/Anaconda3-2023.03-Linux-x86_64.sh\n",
    "\n",
    "then \n",
    "\n",
    "bash Anaconda3-2023.03-Linux-x86_64.sh\n",
    "\n",
    "Details is in https://docs.icer.msu.edu/Using_conda/\n"
   ]
  },
  {
   "cell_type": "code",
   "execution_count": 1,
   "id": "06df5455",
   "metadata": {},
   "outputs": [
    {
     "name": "stdout",
     "output_type": "stream",
     "text": [
      "0.9.1\n"
     ]
    }
   ],
   "source": [
    "import numpy as np\n",
    "import pandas as pd\n",
    "import logging\n",
    "import anndata as ad\n",
    "from scipy.sparse import csr_matrix\n",
    "print(ad.__version__)\n",
    "\n",
    "\n",
    "\n",
    "logging.basicConfig(level=logging.INFO)"
   ]
  },
  {
   "cell_type": "code",
   "execution_count": 2,
   "id": "6b29fa9d-6d16-49c7-8b2d-9b17b3698c20",
   "metadata": {
    "execution": {
     "iopub.execute_input": "2021-09-10T16:46:14.261826Z",
     "iopub.status.busy": "2021-09-10T16:46:14.261224Z",
     "iopub.status.idle": "2021-09-10T16:46:16.426710Z",
     "shell.execute_reply": "2021-09-10T16:46:16.425753Z",
     "shell.execute_reply.started": "2021-09-10T16:46:14.261744Z"
    }
   },
   "outputs": [],
   "source": [
    "from sklearn.decomposition import TruncatedSVD\n",
    "from sklearn.linear_model import LinearRegression\n",
    "from sklearn.metrics import mean_squared_error\n",
    "\n",
    "import scanpy as sc\n",
    "import anndata as ad\n",
    "import matplotlib.pyplot as plt"
   ]
  },
  {
   "cell_type": "markdown",
   "id": "77c6f747-9c47-4ada-9a64-cc32afb5ebd4",
   "metadata": {
    "execution": {
     "iopub.execute_input": "2021-09-08T02:47:54.845734Z",
     "iopub.status.busy": "2021-09-08T02:47:54.845401Z",
     "iopub.status.idle": "2021-09-08T02:47:54.854784Z",
     "shell.execute_reply": "2021-09-08T02:47:54.854029Z",
     "shell.execute_reply.started": "2021-09-08T02:47:54.845669Z"
    },
    "tags": []
   },
   "source": [
    "The data is stored in two AnnData objects, one for each modality. Full documentation for AnnData is [here](https://anndata.readthedocs.io/en/latest/). \n",
    "\n",
    "Let's load the cite data."
   ]
  },
  {
   "cell_type": "code",
   "execution_count": 4,
   "id": "9c507936-681e-465e-bf5a-d7c33434eeb3",
   "metadata": {
    "execution": {
     "iopub.execute_input": "2021-09-10T16:46:16.433880Z",
     "iopub.status.busy": "2021-09-10T16:46:16.432023Z",
     "iopub.status.idle": "2021-09-10T16:46:20.502229Z",
     "shell.execute_reply": "2021-09-10T16:46:20.501552Z",
     "shell.execute_reply.started": "2021-09-10T16:46:16.433834Z"
    },
    "tags": []
   },
   "outputs": [],
   "source": [
    "adata_gex = ad.read_h5ad(\"Gex_processed_training.h5ad\") #gex is gene expression which are RNA\n",
    "adata_adt = ad.read_h5ad(\"Adt_processed_training.h5ad\") # adt is protein"
   ]
  },
  {
   "cell_type": "code",
   "execution_count": 5,
   "id": "7065eb3d",
   "metadata": {
    "scrolled": true
   },
   "outputs": [
    {
     "data": {
      "text/plain": [
       "<42123x134 sparse matrix of type '<class 'numpy.float64'>'\n",
       "\twith 4658030 stored elements in Compressed Sparse Column format>"
      ]
     },
     "execution_count": 5,
     "metadata": {},
     "output_type": "execute_result"
    }
   ],
   "source": [
    "# We see that AnnData provides a representation with summary stastics of the data The initial data we passed \n",
    "# are accessible as a sparse matrix using adata.X.\n",
    "adata_adt.X    # there is 66,175 cells, and 134 proteins"
   ]
  },
  {
   "cell_type": "code",
   "execution_count": 6,
   "id": "bb2ea12f",
   "metadata": {},
   "outputs": [
    {
     "data": {
      "text/plain": [
       "Index(['GCATTAGCATAAGCGG-1-s1d1', 'TACAGGTGTTAGAGTA-1-s1d1',\n",
       "       'AGGATCTAGGTCTACT-1-s1d1', 'GTAGAAAGTGACACAG-1-s1d1',\n",
       "       'TCCGAAAAGGATCATA-1-s1d1', 'CTCCCAATCCATTGGA-1-s1d1',\n",
       "       'GACCAATCAATTTCGG-1-s1d1', 'TTCCGGTAGTTGTAAG-1-s1d1',\n",
       "       'ACCTGTCAGGACTGGT-1-s1d1', 'TTCGATTTCAGGACAG-1-s1d1',\n",
       "       ...\n",
       "       'GATCACACAGAAATTG-1-s3d6', 'AGGGTGACAAATCGGG-1-s3d6',\n",
       "       'TCAGGGCGTGCACGCT-1-s3d6', 'CCCTGATTCAGTCACA-1-s3d6',\n",
       "       'ACTATTCGTATTCCTT-1-s3d6', 'TGTCCCAGTTAACAGA-1-s3d6',\n",
       "       'AATTCCTTCCTAGCCT-1-s3d6', 'CTCAAGAAGATCGCCC-1-s3d6',\n",
       "       'TTGCCTGTCCCATACC-1-s3d6', 'AGAACAATCCATTGCC-1-s3d6'],\n",
       "      dtype='object', length=42123)"
      ]
     },
     "execution_count": 6,
     "metadata": {},
     "output_type": "execute_result"
    }
   ],
   "source": [
    "# We can check the names of the cells\n",
    "adata_adt.obs_names"
   ]
  },
  {
   "cell_type": "code",
   "execution_count": 7,
   "id": "cdc79c57",
   "metadata": {},
   "outputs": [
    {
     "data": {
      "text/plain": [
       "Index(['CD86', 'CD274', 'CD270', 'CD155', 'CD112', 'CD47', 'CD48', 'CD40',\n",
       "       'CD154', 'CD52',\n",
       "       ...\n",
       "       'CD94', 'CD162', 'CD85j', 'CD23', 'CD328', 'HLA-E', 'CD82', 'CD101',\n",
       "       'CD88', 'CD224'],\n",
       "      dtype='object', length=134)"
      ]
     },
     "execution_count": 7,
     "metadata": {},
     "output_type": "execute_result"
    }
   ],
   "source": [
    "# The names of proteins\n",
    "adata_adt.var_names"
   ]
  },
  {
   "cell_type": "code",
   "execution_count": 8,
   "id": "602489cc",
   "metadata": {},
   "outputs": [
    {
     "data": {
      "text/plain": [
       "array([[  1.,   1.,  16., ...,   1.,   9.,   5.],\n",
       "       [ 55.,   7.,  38., ..., 146.,  24., 131.],\n",
       "       [  0.,   2.,  23., ...,   0.,   9.,   4.],\n",
       "       ...,\n",
       "       [  2.,   2.,   7., ...,   6.,  22.,   9.],\n",
       "       [  3.,   2.,   3., ...,   3.,  18.,   6.],\n",
       "       [  1.,   1.,   7., ...,   1.,   4.,   3.]])"
      ]
     },
     "execution_count": 8,
     "metadata": {},
     "output_type": "execute_result"
    }
   ],
   "source": [
    "# There are two type of data available. 1) is raw data which is counts\n",
    "A = adata_adt.layers['counts']\n",
    "A.toarray()  # you can see all the data is counts"
   ]
  },
  {
   "cell_type": "code",
   "execution_count": 9,
   "id": "7499453f",
   "metadata": {
    "scrolled": true
   },
   "outputs": [
    {
     "data": {
      "text/plain": [
       "array([[0.15437832, 0.15437832, 1.30044138, ..., 0.15437832, 0.91724646,\n",
       "        0.60685992],\n",
       "       [1.24113739, 0.27233985, 0.99300092, ..., 2.01875925, 0.72912055,\n",
       "        1.92544377],\n",
       "       [0.        , 0.22376126, 1.35683525, ..., 0.        , 0.75540608,\n",
       "        0.40649441],\n",
       "       ...,\n",
       "       [0.34508872, 0.34508872, 0.89298248, ..., 0.80484313, 1.71077847,\n",
       "        1.04890311],\n",
       "       [0.67508709, 0.49640375, 0.67508709, ..., 0.67508709, 1.91474736,\n",
       "        1.07445896],\n",
       "       [0.24185085, 0.24185085, 1.06994855, ..., 0.24185085, 0.73927516,\n",
       "        0.59928292]])"
      ]
     },
     "execution_count": 9,
     "metadata": {},
     "output_type": "execute_result"
    }
   ],
   "source": [
    "A1 = adata_adt.X\n",
    "A1.toarray()  # this is normalized data"
   ]
  },
  {
   "cell_type": "code",
   "execution_count": 10,
   "id": "a0ac034b",
   "metadata": {
    "scrolled": true
   },
   "outputs": [
    {
     "name": "stdout",
     "output_type": "stream",
     "text": [
      "normalized = 0.2723398506641388 ; Counts = 7.0\n"
     ]
    }
   ],
   "source": [
    "print('normalized =', A1[1,1], '; Counts =', A[1, 1])"
   ]
  },
  {
   "cell_type": "code",
   "execution_count": 11,
   "id": "0c007159",
   "metadata": {},
   "outputs": [
    {
     "data": {
      "text/plain": [
       "array([[0., 0., 0., ..., 0., 0., 0.],\n",
       "       [0., 0., 0., ..., 0., 0., 0.],\n",
       "       [0., 0., 0., ..., 0., 0., 0.],\n",
       "       ...,\n",
       "       [0., 0., 0., ..., 0., 0., 0.],\n",
       "       [0., 0., 0., ..., 0., 0., 0.],\n",
       "       [0., 0., 0., ..., 0., 0., 0.]])"
      ]
     },
     "execution_count": 11,
     "metadata": {},
     "output_type": "execute_result"
    }
   ],
   "source": [
    "# Let's check the RNA. Raw data (count)\n",
    "B = adata_gex.layers['counts']\n",
    "B.toarray()\n"
   ]
  },
  {
   "cell_type": "code",
   "execution_count": 12,
   "id": "46d5d183",
   "metadata": {},
   "outputs": [
    {
     "data": {
      "text/plain": [
       "<matplotlib.collections.PathCollection at 0x7f4ca01fa220>"
      ]
     },
     "execution_count": 12,
     "metadata": {},
     "output_type": "execute_result"
    },
    {
     "data": {
      "image/png": "[encoded data removed]",
      "text/plain": [
       "<Figure size 640x480 with 1 Axes>"
      ]
     },
     "metadata": {},
     "output_type": "display_data"
    }
   ],
   "source": [
    "A =adata_gex[:, ['CD86']].X\n",
    "CD86_RNA = A.toarray()\n",
    "A1 = adata_adt[:, ['CD86']].X\n",
    "CD86_Protein = A1.toarray()\n",
    "plt.scatter(CD86_RNA, CD86_Protein)"
   ]
  },
  {
   "cell_type": "markdown",
   "id": "694dd207-eb54-423d-a334-2e16c3b1901d",
   "metadata": {},
   "source": [
    "As expected, the linear model does better than the dummy method. Now the challenge is up to you! Can you do better than this baseline?"
   ]
  },
  {
   "cell_type": "code",
   "execution_count": 15,
   "id": "4c529fc1",
   "metadata": {},
   "outputs": [],
   "source": [
    "from sklearn.linear_model import LinearRegression"
   ]
  },
  {
   "cell_type": "code",
   "execution_count": 18,
   "id": "ebfb5229",
   "metadata": {},
   "outputs": [
    {
     "data": {
      "text/plain": [
       "LinearRegression()"
      ]
     },
     "execution_count": 18,
     "metadata": {},
     "output_type": "execute_result"
    }
   ],
   "source": [
    "model = LinearRegression()\n",
    "model.fit(CD86_RNA, CD86_Protein)"
   ]
  },
  {
   "cell_type": "code",
   "execution_count": 25,
   "id": "d3326f18",
   "metadata": {},
   "outputs": [
    {
     "data": {
      "text/plain": [
       "array([[0.19593767]])"
      ]
     },
     "execution_count": 25,
     "metadata": {},
     "output_type": "execute_result"
    }
   ],
   "source": [
    "model.predict([[0]])"
   ]
  },
  {
   "cell_type": "code",
   "execution_count": 30,
   "id": "d2378f55",
   "metadata": {},
   "outputs": [],
   "source": [
    "question = model.predict(CD86_RNA)"
   ]
  },
  {
   "cell_type": "code",
   "execution_count": 31,
   "id": "7f473527",
   "metadata": {},
   "outputs": [
    {
     "data": {
      "text/plain": [
       "<matplotlib.collections.PathCollection at 0x7f5f2f880130>"
      ]
     },
     "execution_count": 31,
     "metadata": {},
     "output_type": "execute_result"
    },
    {
     "data": {
      "image/png": "[encoded data removed]",
      "text/plain": [
       "<Figure size 640x480 with 1 Axes>"
      ]
     },
     "metadata": {},
     "output_type": "display_data"
    }
   ],
   "source": [
    "plt.scatter(CD86_RNA, CD86_Protein)\n",
    "plt.scatter(CD86_RNA, question)"
   ]
  },
  {
   "cell_type": "code",
   "execution_count": null,
   "id": "e4afe60d",
   "metadata": {},
   "outputs": [],
   "source": []
  },
  {
   "cell_type": "code",
   "execution_count": null,
   "id": "23211d2b",
   "metadata": {},
   "outputs": [],
   "source": []
  }
 ],
 "metadata": {
  "kernelspec": {
   "display_name": "Python 3 (ipykernel)",
   "language": "python",
   "name": "python3"
  },
  "language_info": {
   "codemirror_mode": {
    "name": "ipython",
    "version": 3
   },
   "file_extension": ".py",
   "mimetype": "text/x-python",
   "name": "python",
   "nbconvert_exporter": "python",
   "pygments_lexer": "ipython3",
   "version": "3.9.13"
  }
 },
 "nbformat": 4,
 "nbformat_minor": 5
}
