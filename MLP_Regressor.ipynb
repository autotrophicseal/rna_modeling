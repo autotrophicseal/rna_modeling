{
 "cells": [
  {
   "cell_type": "code",
   "execution_count": 1,
   "id": "6eafb4c8",
   "metadata": {},
   "outputs": [],
   "source": [
    "import anndata as ad"
   ]
  },
  {
   "cell_type": "code",
   "execution_count": 2,
   "id": "71bfe16c",
   "metadata": {},
   "outputs": [],
   "source": [
    "from sklearn.metrics import mean_squared_error\n",
    "from sklearn.model_selection import train_test_split\n",
    "from sklearn.preprocessing import scale \n",
    "from sklearn import model_selection\n",
    "import torch\n",
    "from torch import nn\n",
    "import torch.optim as optim\n",
    "from torch.utils.data import TensorDataset, DataLoader\n",
    "import magic\n",
    "from sklearn.decomposition import PCA"
   ]
  },
  {
   "cell_type": "code",
   "execution_count": 3,
   "id": "2f4867ee",
   "metadata": {},
   "outputs": [],
   "source": [
    "from sklearn.neural_network import MLPRegressor\n",
    "from sklearn.datasets import make_regression\n",
    "from math import sqrt"
   ]
  },
  {
   "cell_type": "code",
   "execution_count": 4,
   "id": "537bc52a",
   "metadata": {},
   "outputs": [],
   "source": [
    "# Training Data\n",
    "adata_gex = ad.read_h5ad(\"Gex_processed_training.h5ad\") #gex is gene expression which are RNA\n",
    "adata_adt = ad.read_h5ad(\"Adt_processed_training.h5ad\") #adt contains info about the proteins in the cells\n",
    "\n",
    "# Testing Data\n",
    "test_gex = ad.read_h5ad(\"Gex_processed_testing.h5ad\")\n",
    "test_adt = ad.read_h5ad(\"Adt_processed_testing.h5ad\")"
   ]
  },
  {
   "cell_type": "code",
   "execution_count": 5,
   "id": "4319a6f6",
   "metadata": {},
   "outputs": [],
   "source": [
    "# TRAINING DATA\n",
    "# This returns the NORMALIZED COUNT of ALL RNA sequences within the cell\n",
    "C = adata_gex.X\n",
    "\n",
    "# We keep the protein datat the same because we want to predict for only the number of CD86 Proteins in the cell\n",
    "C1 = adata_adt.X\n",
    "\n",
    "# Utilize sklearn train_test_split function to split up the C array. Small array contains 10% the data of the full array\n",
    "# Notice that C_small has only ~4000 row of data instead of 13000\n",
    "C_small, C_large, C1_small, C1_large = train_test_split(C,C1,train_size=0.01)\n",
    "C_small\n",
    "\n",
    "# Then we want to turn it into an array so we can work on it.\n",
    "X_train = C_small.toarray()\n",
    "y_train = C1_small.toarray()"
   ]
  },
  {
   "cell_type": "code",
   "execution_count": 6,
   "id": "f81248c3",
   "metadata": {},
   "outputs": [],
   "source": [
    "# This returns the NORMALIZED COUNT of the RNA sequence CD86 in EACH CELL\n",
    "C_test = test_gex.X\n",
    "\n",
    "# Same thing below except for proteins\n",
    "C1_test = test_adt.X\n",
    "\n",
    "# Then we want to turn it into an array so we can work on it\n",
    "X_test = C_test.toarray()\n",
    "y_test = C1_test.toarray()"
   ]
  },
  {
   "cell_type": "code",
   "execution_count": null,
   "id": "a27bb16d",
   "metadata": {},
   "outputs": [],
   "source": [
    "regr = MLPRegressor(random_state=1, max_iter=500).fit(X_train, y_train)\n",
    "predicted = regr.predict(X_test)"
   ]
  },
  {
   "cell_type": "code",
   "execution_count": 8,
   "id": "44f643b5",
   "metadata": {},
   "outputs": [
    {
     "data": {
      "text/plain": [
       "0.2381969024715345"
      ]
     },
     "execution_count": 8,
     "metadata": {},
     "output_type": "execute_result"
    }
   ],
   "source": [
    "mean_squared_error(y_test, predicted, square=False)"
   ]
  },
  {
   "cell_type": "code",
   "execution_count": null,
   "id": "0555aa32",
   "metadata": {},
   "outputs": [],
   "source": []
  }
 ],
 "metadata": {
  "kernelspec": {
   "display_name": "Python 3 (ipykernel)",
   "language": "python",
   "name": "python3"
  },
  "language_info": {
   "codemirror_mode": {
    "name": "ipython",
    "version": 3
   },
   "file_extension": ".py",
   "mimetype": "text/x-python",
   "name": "python",
   "nbconvert_exporter": "python",
   "pygments_lexer": "ipython3",
   "version": "3.9.13"
  }
 },
 "nbformat": 4,
 "nbformat_minor": 5
}
